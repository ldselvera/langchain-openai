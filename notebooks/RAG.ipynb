{
 "cells": [
  {
   "cell_type": "code",
   "execution_count": 2,
   "id": "c69b5786-ce46-45f8-a5d6-773d5c21efa5",
   "metadata": {},
   "outputs": [],
   "source": [
    "import os \n",
    "os.environ['OPENAI_API_KEY'] = ''\n",
    "os.environ['PINECONE_API_KEY'] = ''"
   ]
  },
  {
   "cell_type": "code",
   "execution_count": 2,
   "id": "19ee05f3-b091-4621-ba24-57c41278b282",
   "metadata": {},
   "outputs": [],
   "source": [
    "# %pip install faiss-cpu\\\n",
    "# %pip install pinecone-client\n",
    "# %pip install langchain-pinecone==0.0.3"
   ]
  },
  {
   "cell_type": "code",
   "execution_count": 17,
   "id": "626cc599-ccc8-415f-9fb6-e9ef842783d2",
   "metadata": {},
   "outputs": [],
   "source": [
    "from langchain.document_loaders import PyPDFLoader\n",
    "from langchain.text_splitter import RecursiveCharacterTextSplitter\n",
    "from langchain.embeddings.openai import OpenAIEmbeddings\n",
    "\n",
    "import numpy as np\n",
    "from numpy.linalg import norm\n",
    "\n",
    "from langchain.vectorstores import FAISS\n",
    "from langchain.chains import RetrievalQA\n",
    "from langchain.chat_models import ChatOpenAI\n",
    "from langchain.callbacks import StdOutCallbackHandler\n",
    "\n",
    "import pinecone \n",
    "from langchain.vectorstores import Pinecone\n",
    "from pinecone import Pinecone, ServerlessSpec    \n",
    "from langchain_pinecone import PineconeVectorStore"
   ]
  },
  {
   "cell_type": "code",
   "execution_count": 4,
   "id": "fc3e170e-ff32-478e-8cbe-e0cfed139119",
   "metadata": {},
   "outputs": [],
   "source": [
    "file_path = 'mixed_data/element_of_SL.pdf'\n",
    "\n",
    "loader = PyPDFLoader(file_path=file_path)\n",
    "\n",
    "text_splitter = RecursiveCharacterTextSplitter(\n",
    "    chunk_size=500,\n",
    "    chunk_overlap=0\n",
    ")\n",
    "\n",
    "data = loader.load_and_split(text_splitter=text_splitter)\n",
    "# data"
   ]
  },
  {
   "cell_type": "code",
   "execution_count": 5,
   "id": "73003fba-cc8b-47ba-a9b3-a2977f3b4204",
   "metadata": {},
   "outputs": [
    {
     "data": {
      "text/plain": [
       "'Springer Series in Statistics\\nTrevor Hastie\\nRobert TibshiraniJerome FriedmanSpringer Series in Statistics\\nThe Elements of\\nStatistical Learning\\nData Mining, Inference, and Prediction\\nThe Elements of Statistical LearningDuring the past decade there has been an explosion in computation and information tech-'"
      ]
     },
     "execution_count": 5,
     "metadata": {},
     "output_type": "execute_result"
    }
   ],
   "source": [
    "data[0].page_content"
   ]
  },
  {
   "cell_type": "code",
   "execution_count": 6,
   "id": "bd556784-91bf-4a4d-be68-6ffa0f0d4247",
   "metadata": {},
   "outputs": [
    {
     "name": "stderr",
     "output_type": "stream",
     "text": [
      "C:\\Users\\Owner\\anaconda3\\Lib\\site-packages\\langchain_core\\_api\\deprecation.py:139: LangChainDeprecationWarning: The class `OpenAIEmbeddings` was deprecated in LangChain 0.0.9 and will be removed in 0.3.0. An updated version of the class exists in the langchain-openai package and should be used instead. To use it run `pip install -U langchain-openai` and import as `from langchain_openai import OpenAIEmbeddings`.\n",
      "  warn_deprecated(\n",
      "C:\\Users\\Owner\\anaconda3\\Lib\\site-packages\\tqdm\\auto.py:21: TqdmWarning: IProgress not found. Please update jupyter and ipywidgets. See https://ipywidgets.readthedocs.io/en/stable/user_install.html\n",
      "  from .autonotebook import tqdm as notebook_tqdm\n",
      "100%|██████████████████████████████████████████████████████████████████████████████████████████████████████████████████████████████████████████████████████████████████████████████████████████████████████████████████████████████████████████████████████| 1/1 [00:00<00:00,  4.22it/s]\n"
     ]
    },
    {
     "data": {
      "text/plain": [
       "1536"
      ]
     },
     "execution_count": 6,
     "metadata": {},
     "output_type": "execute_result"
    }
   ],
   "source": [
    "embeddings = OpenAIEmbeddings(show_progress_bar=True)\n",
    "\n",
    "vector1 = embeddings.embed_query('How are you?')\n",
    "\n",
    "len(vector1)"
   ]
  },
  {
   "cell_type": "code",
   "execution_count": 1,
   "id": "3b3f0ead-1e52-4cfa-8cf9-00453d5f7a7c",
   "metadata": {},
   "outputs": [],
   "source": [
    "# embeddings.__dict__"
   ]
  },
  {
   "cell_type": "code",
   "execution_count": 8,
   "id": "3bf1e759-de3f-4e0f-8557-9bae49436d98",
   "metadata": {},
   "outputs": [],
   "source": [
    "def get_cosine(vec1, vec2):\n",
    "    return np.dot(vec1,vec2)/(norm(vec1)*norm(vec2))"
   ]
  },
  {
   "cell_type": "code",
   "execution_count": 9,
   "id": "0d6d7348-20f8-48cc-8b07-79974d3e8821",
   "metadata": {},
   "outputs": [
    {
     "name": "stderr",
     "output_type": "stream",
     "text": [
      "100%|██████████████████████████████████████████████████████████████████████████████████████████████████████████████████████████████████████████████████████████████████████████████████████████████████████████████████████████████████████████████████████| 1/1 [00:00<00:00,  5.92it/s]\n",
      "100%|██████████████████████████████████████████████████████████████████████████████████████████████████████████████████████████████████████████████████████████████████████████████████████████████████████████████████████████████████████████████████████| 1/1 [00:00<00:00,  7.87it/s]\n"
     ]
    },
    {
     "data": {
      "text/plain": [
       "0.8817139772688366"
      ]
     },
     "execution_count": 9,
     "metadata": {},
     "output_type": "execute_result"
    }
   ],
   "source": [
    "vector1 = embeddings.embed_query('machine learning')\n",
    "vector2 = embeddings.embed_query('artificial intelligence')\n",
    "cosine = get_cosine(vector1, vector2)\n",
    "cosine"
   ]
  },
  {
   "cell_type": "code",
   "execution_count": 10,
   "id": "f9565fdb-c0b1-4d0d-99c4-82937d540348",
   "metadata": {},
   "outputs": [
    {
     "name": "stderr",
     "output_type": "stream",
     "text": [
      "100%|██████████████████████████████████████████████████████████████████████████████████████████████████████████████████████████████████████████████████████████████████████████████████████████████████████████████████████████████████████████████████████| 1/1 [00:00<00:00,  8.09it/s]\n"
     ]
    },
    {
     "data": {
      "text/plain": [
       "0.7398555101973149"
      ]
     },
     "execution_count": 10,
     "metadata": {},
     "output_type": "execute_result"
    }
   ],
   "source": [
    "vector3 = embeddings.embed_query('peperoni pizza')\n",
    "cosine = get_cosine(vector2, vector3)\n",
    "cosine"
   ]
  },
  {
   "cell_type": "code",
   "execution_count": 11,
   "id": "10505bc6-2466-4ed1-8bd2-d4ccc29c2cc7",
   "metadata": {},
   "outputs": [
    {
     "name": "stderr",
     "output_type": "stream",
     "text": [
      "100%|██████████████████████████████████████████████████████████████████████████████████████████████████████████████████████████████████████████████████████████████████████████████████████████████████████████████████████████████████████████████████████| 5/5 [00:18<00:00,  3.66s/it]\n"
     ]
    }
   ],
   "source": [
    "index = FAISS.from_documents(data, embeddings)"
   ]
  },
  {
   "cell_type": "code",
   "execution_count": 12,
   "id": "e2e769d4-24c6-43c5-9d1e-f069bc78e5e9",
   "metadata": {},
   "outputs": [
    {
     "name": "stderr",
     "output_type": "stream",
     "text": [
      "100%|██████████████████████████████████████████████████████████████████████████████████████████████████████████████████████████████████████████████████████████████████████████████████████████████████████████████████████████████████████████████████████| 1/1 [00:00<00:00,  7.14it/s]\n"
     ]
    },
    {
     "data": {
      "text/plain": [
       "[(Document(page_content='This is page 1\\nPrinter: Opaque this\\n1\\nIntroduction\\nStatistical learning plays a key role in many areas of science, ﬁnance and\\nindustry. Here are some examples of learning problems:\\n•Predict whether a patient, hospitalized due to a heart attack, will\\nhave a second heart attack. The prediction is to be based on demo-\\ngraphic, diet and clinical measurements for that patient.\\n•Predict the price of a stock in 6 months from now, on the basis of\\ncompany performance measures and economic data.', metadata={'source': 'mixed_data/element_of_SL.pdf', 'page': 19}),\n",
       "  0.7542145837625359),\n",
       " (Document(page_content='This is page 389\\nPrinter: Opaque this\\n11\\nNeural Networks\\n11.1 Introduction\\nIn this chapter we describe a class of learning methods that was developed\\nseparately in diﬀerent ﬁelds—statistics and artiﬁcial intelligence—based\\non essentially identical models. The central idea is to extract linear com-\\nbinations of the inputs as derived features, and then model the target as\\na nonlinear function of these features. The result is a powerful learning', metadata={'source': 'mixed_data/element_of_SL.pdf', 'page': 407}),\n",
       "  0.7519541429097754),\n",
       " (Document(page_content='The challenges in learning from data have led to a revolution in the sta-\\ntistical sciences. Since computation plays such a key role, it is not surprising\\nthat much of this new development has been done by researchers in other\\nﬁelds such as computer science and engineering.\\nThe learning problems that we consider can be roughly categorized as\\neither supervised orunsupervised . In supervised learning, the goal is to pre-\\ndict the value of an outcome measure based on a number of input measures;', metadata={'source': 'mixed_data/element_of_SL.pdf', 'page': 7}),\n",
       "  0.7514755865183584),\n",
       " (Document(page_content='While the approach is statistical, theemphasis is on concepts rather than mathematics. Many examples are given, with a liberaluse of color graphics. It should be a valuable resource for statisticians and anyone interestedin data mining in science or industry. The book’s coverage is broad, from supervised learning(prediction) to unsupervised learning. The many topics include neural networks, supportvector machines, classification trees and boosting—the first comprehensive treatment of thistopic', metadata={'source': 'mixed_data/element_of_SL.pdf', 'page': 0}),\n",
       "  0.7492416349598869)]"
      ]
     },
     "execution_count": 12,
     "metadata": {},
     "output_type": "execute_result"
    }
   ],
   "source": [
    "index.similarity_search_with_relevance_scores(\n",
    "    \"What is machine learning?\"\n",
    ")"
   ]
  },
  {
   "cell_type": "code",
   "execution_count": 14,
   "id": "c733b613-bf59-4745-a3a1-b0dff79699a5",
   "metadata": {},
   "outputs": [
    {
     "name": "stderr",
     "output_type": "stream",
     "text": [
      "C:\\Users\\Owner\\anaconda3\\Lib\\site-packages\\langchain_core\\_api\\deprecation.py:139: LangChainDeprecationWarning: The class `ChatOpenAI` was deprecated in LangChain 0.0.10 and will be removed in 0.3.0. An updated version of the class exists in the langchain-openai package and should be used instead. To use it run `pip install -U langchain-openai` and import as `from langchain_openai import ChatOpenAI`.\n",
      "  warn_deprecated(\n"
     ]
    }
   ],
   "source": [
    "retriever = index.as_retriever()\n",
    "retriever.search_kwargs['fetch_k'] = 20\n",
    "retriever.search_kwargs['maximal_marginal_relevance'] = True\n",
    "retriever.search_kwargs['k'] = 10\n",
    "\n",
    "llm = ChatOpenAI()\n",
    "\n",
    "chain = RetrievalQA.from_chain_type(\n",
    "    llm=llm, \n",
    "    retriever=retriever,\n",
    "    verbose=True\n",
    ")\n",
    "\n",
    "handler = StdOutCallbackHandler()"
   ]
  },
  {
   "cell_type": "code",
   "execution_count": 15,
   "id": "2ba99996-866c-43f7-83ac-a2f53c80ca76",
   "metadata": {},
   "outputs": [
    {
     "name": "stderr",
     "output_type": "stream",
     "text": [
      "C:\\Users\\Owner\\anaconda3\\Lib\\site-packages\\langchain_core\\_api\\deprecation.py:139: LangChainDeprecationWarning: The method `Chain.run` was deprecated in langchain 0.1.0 and will be removed in 0.3.0. Use invoke instead.\n",
      "  warn_deprecated(\n"
     ]
    },
    {
     "name": "stdout",
     "output_type": "stream",
     "text": [
      "\n",
      "\n",
      "\u001b[1m> Entering new RetrievalQA chain...\u001b[0m\n"
     ]
    },
    {
     "name": "stderr",
     "output_type": "stream",
     "text": [
      "100%|██████████████████████████████████████████████████████████████████████████████████████████████████████████████████████████████████████████████████████████████████████████████████████████████████████████████████████████████████████████████████████| 1/1 [00:00<00:00,  6.70it/s]\n"
     ]
    },
    {
     "name": "stdout",
     "output_type": "stream",
     "text": [
      "\n",
      "\n",
      "\u001b[1m> Entering new StuffDocumentsChain chain...\u001b[0m\n",
      "\n",
      "\n",
      "\u001b[1m> Entering new LLMChain chain...\u001b[0m\n",
      "Prompt after formatting:\n",
      "\u001b[32;1m\u001b[1;3mSystem: Use the following pieces of context to answer the user's question. \n",
      "If you don't know the answer, just say that you don't know, don't try to make up an answer.\n",
      "----------------\n",
      "This is page 1\n",
      "Printer: Opaque this\n",
      "1\n",
      "Introduction\n",
      "Statistical learning plays a key role in many areas of science, ﬁnance and\n",
      "industry. Here are some examples of learning problems:\n",
      "•Predict whether a patient, hospitalized due to a heart attack, will\n",
      "have a second heart attack. The prediction is to be based on demo-\n",
      "graphic, diet and clinical measurements for that patient.\n",
      "•Predict the price of a stock in 6 months from now, on the basis of\n",
      "company performance measures and economic data.\n",
      "\n",
      "This is page 389\n",
      "Printer: Opaque this\n",
      "11\n",
      "Neural Networks\n",
      "11.1 Introduction\n",
      "In this chapter we describe a class of learning methods that was developed\n",
      "separately in diﬀerent ﬁelds—statistics and artiﬁcial intelligence—based\n",
      "on essentially identical models. The central idea is to extract linear com-\n",
      "binations of the inputs as derived features, and then model the target as\n",
      "a nonlinear function of these features. The result is a powerful learning\n",
      "\n",
      "The challenges in learning from data have led to a revolution in the sta-\n",
      "tistical sciences. Since computation plays such a key role, it is not surprising\n",
      "that much of this new development has been done by researchers in other\n",
      "ﬁelds such as computer science and engineering.\n",
      "The learning problems that we consider can be roughly categorized as\n",
      "either supervised orunsupervised . In supervised learning, the goal is to pre-\n",
      "dict the value of an outcome measure based on a number of input measures;\n",
      "\n",
      "While the approach is statistical, theemphasis is on concepts rather than mathematics. Many examples are given, with a liberaluse of color graphics. It should be a valuable resource for statisticians and anyone interestedin data mining in science or industry. The book’s coverage is broad, from supervised learning(prediction) to unsupervised learning. The many topics include neural networks, supportvector machines, classification trees and boosting—the first comprehensive treatment of thistopic\n",
      "\n",
      "With supervised learning there is a clear measure of success, or lack\n",
      "thereof, that can be used to judge adequacy in particular situations and\n",
      "to compare the eﬀectiveness of diﬀerent methods over various situations.\n",
      "\n",
      "nology. With it have come vast amounts of data in a variety of fields such as medicine, biolo-gy, finance, and marketing. The challenge of understanding these data has led to the devel-opment of new tools in the field of statistics, and spawned new areas such as data mining,machine learning, and bioinformatics. Many of these tools have common underpinnings butare often expressed with different terminology. This book describes the important ideas inthese areas in a common conceptual framework.\n",
      "\n",
      "Bishop, C. (2006). Pattern Recognition and Machine Learning , Springer,\n",
      "New York.\n",
      "Bishop, Y., Fienberg, S. and Holland, P. (1975). Discrete Multivariate\n",
      "Analysis , MIT Press, Cambridge, MA.\n",
      "Boyd, S. and Vandenberghe, L. (2004). Convex Optimization , Cambridge\n",
      "University Press.\n",
      "Breiman, L. (1992). The little bootstrap and other methods for dimension-\n",
      "ality selection in regression: X-ﬁxed prediction error, Journal of the\n",
      "American Statistical Association 87: 738–754.\n",
      "\n",
      "This book is about learning from data. In a typical scenario, we have\n",
      "an outcome measurement, usually quantitative (such as a stock price) or\n",
      "categorical (such as heart attack/no heart attack), that we wish to predict\n",
      "based on a set of features (such as diet and clinical measurements). We\n",
      "have a training set of data, in which we observe the outcome and feature\n",
      "\n",
      "a prediction model, or learner , which will enable us to predict the outcome\n",
      "for new unseen objects. A good learner is one that accurately predicts such\n",
      "an outcome.\n",
      "The examples above describe what is called the supervised learning prob-\n",
      "lem. It is called “supervised” because of the presence of the outcome vari-\n",
      "able to guide the learning process. In the unsupervised learning problem ,\n",
      "we observe only the features and have no measurements of the outcome.\n",
      "\n",
      "Equally notable, we describe the underlying concepts and considerations\n",
      "by which a researcher can judge a learning method. We have tried to write\n",
      "this book in an intuitive fashion, emphasizing concepts rather than math-\n",
      "ematical details.\n",
      "As statisticians, our exposition will naturally reﬂect our backgrounds and\n",
      "areas of expertise. However in the past eight years we have been attending\n",
      "conferences in neural networks, data mining and machine learning, and our\n",
      "Human: What is machine learning?\u001b[0m\n",
      "\n",
      "\u001b[1m> Finished chain.\u001b[0m\n",
      "\n",
      "\u001b[1m> Finished chain.\u001b[0m\n",
      "\n",
      "\u001b[1m> Finished chain.\u001b[0m\n"
     ]
    },
    {
     "data": {
      "text/plain": [
       "'Machine learning is a field that involves developing algorithms and models that allow computers to learn from data and make predictions or decisions without being explicitly programmed to do so. It is a subset of artificial intelligence that focuses on the development of computer programs that can access data and use it to learn for themselves. The goal is to enable computers to learn from data and improve over time without human intervention.'"
      ]
     },
     "execution_count": 15,
     "metadata": {},
     "output_type": "execute_result"
    }
   ],
   "source": [
    "chain.run(\n",
    "    'What is machine learning?',\n",
    "    callbacks=[handler]\n",
    ")"
   ]
  },
  {
   "cell_type": "code",
   "execution_count": 28,
   "id": "a09dfcdd-61d7-4ba3-b2e0-502fbbfc31c2",
   "metadata": {},
   "outputs": [],
   "source": [
    "# pinecone.init(\n",
    "#     api_key=PINECONE_API_KEY,  # find at app.pinecone.io\n",
    "#     environment=PINECONE_ENV  # next to api key in console\n",
    "# )\n"
   ]
  },
  {
   "cell_type": "code",
   "execution_count": 31,
   "id": "7efdc5ed-da7a-4de9-b364-d49948b46d10",
   "metadata": {},
   "outputs": [
    {
     "name": "stderr",
     "output_type": "stream",
     "text": [
      "100%|██████████████████████████████████████████████████████████████████████████████████████████████████████████████████████████████████████████████████████████████████████████████████████████████████████████████████████████████████████████████████████| 1/1 [00:01<00:00,  1.98s/it]\n",
      "100%|██████████████████████████████████████████████████████████████████████████████████████████████████████████████████████████████████████████████████████████████████████████████████████████████████████████████████████████████████████████████████████| 1/1 [00:02<00:00,  2.52s/it]\n",
      "100%|██████████████████████████████████████████████████████████████████████████████████████████████████████████████████████████████████████████████████████████████████████████████████████████████████████████████████████████████████████████████████████| 1/1 [00:02<00:00,  2.23s/it]\n",
      "100%|██████████████████████████████████████████████████████████████████████████████████████████████████████████████████████████████████████████████████████████████████████████████████████████████████████████████████████████████████████████████████████| 1/1 [00:02<00:00,  2.32s/it]\n",
      "100%|██████████████████████████████████████████████████████████████████████████████████████████████████████████████████████████████████████████████████████████████████████████████████████████████████████████████████████████████████████████████████████| 1/1 [00:00<00:00,  1.58it/s]\n"
     ]
    }
   ],
   "source": [
    "index_name = \"langchain-demo\"\n",
    "# db = Pinecone.from_documents(\n",
    "#     data, \n",
    "#     embeddings, \n",
    "#     index_name=index_name\n",
    "# )\n",
    "\n",
    "db = PineconeVectorStore.from_documents(\n",
    "    data,\n",
    "    index_name=index_name,\n",
    "    embedding=embeddings\n",
    ")"
   ]
  },
  {
   "cell_type": "code",
   "execution_count": 33,
   "id": "3f3f1e69-3b73-4d66-a965-8db2a93c5720",
   "metadata": {},
   "outputs": [
    {
     "name": "stdout",
     "output_type": "stream",
     "text": [
      "\n",
      "\n",
      "\u001b[1m> Entering new RetrievalQA chain...\u001b[0m\n"
     ]
    },
    {
     "name": "stderr",
     "output_type": "stream",
     "text": [
      "100%|██████████████████████████████████████████████████████████████████████████████████████████████████████████████████████████████████████████████████████████████████████████████████████████████████████████████████████████████████████████████████████| 1/1 [00:00<00:00,  6.34it/s]\n"
     ]
    },
    {
     "name": "stdout",
     "output_type": "stream",
     "text": [
      "\n",
      "\n",
      "\u001b[1m> Entering new StuffDocumentsChain chain...\u001b[0m\n",
      "\n",
      "\n",
      "\u001b[1m> Entering new LLMChain chain...\u001b[0m\n",
      "Prompt after formatting:\n",
      "\u001b[32;1m\u001b[1;3mSystem: Use the following pieces of context to answer the user's question. \n",
      "If you don't know the answer, just say that you don't know, don't try to make up an answer.\n",
      "----------------\n",
      "This is page 1\n",
      "Printer: Opaque this\n",
      "1\n",
      "Introduction\n",
      "Statistical learning plays a key role in many areas of science, ﬁnance and\n",
      "industry. Here are some examples of learning problems:\n",
      "•Predict whether a patient, hospitalized due to a heart attack, will\n",
      "have a second heart attack. The prediction is to be based on demo-\n",
      "graphic, diet and clinical measurements for that patient.\n",
      "•Predict the price of a stock in 6 months from now, on the basis of\n",
      "company performance measures and economic data.\n",
      "\n",
      "This is page 389\n",
      "Printer: Opaque this\n",
      "11\n",
      "Neural Networks\n",
      "11.1 Introduction\n",
      "In this chapter we describe a class of learning methods that was developed\n",
      "separately in diﬀerent ﬁelds—statistics and artiﬁcial intelligence—based\n",
      "on essentially identical models. The central idea is to extract linear com-\n",
      "binations of the inputs as derived features, and then model the target as\n",
      "a nonlinear function of these features. The result is a powerful learning\n",
      "\n",
      "The challenges in learning from data have led to a revolution in the sta-\n",
      "tistical sciences. Since computation plays such a key role, it is not surprising\n",
      "that much of this new development has been done by researchers in other\n",
      "ﬁelds such as computer science and engineering.\n",
      "The learning problems that we consider can be roughly categorized as\n",
      "either supervised orunsupervised . In supervised learning, the goal is to pre-\n",
      "dict the value of an outcome measure based on a number of input measures;\n",
      "\n",
      "While the approach is statistical, theemphasis is on concepts rather than mathematics. Many examples are given, with a liberaluse of color graphics. It should be a valuable resource for statisticians and anyone interestedin data mining in science or industry. The book’s coverage is broad, from supervised learning(prediction) to unsupervised learning. The many topics include neural networks, supportvector machines, classification trees and boosting—the first comprehensive treatment of thistopic\n",
      "Human: What is machine learning?\u001b[0m\n",
      "\n",
      "\u001b[1m> Finished chain.\u001b[0m\n",
      "\n",
      "\u001b[1m> Finished chain.\u001b[0m\n",
      "\n",
      "\u001b[1m> Finished chain.\u001b[0m\n"
     ]
    },
    {
     "data": {
      "text/plain": [
       "'Machine learning is a field of study that focuses on developing algorithms and statistical models that allow computer systems to learn from and make predictions or decisions based on data without being explicitly programmed to do so. It involves creating systems that can automatically learn and improve from experience without being explicitly programmed for every task. It is used in various applications such as predicting stock prices, identifying patterns in data, image recognition, and more.'"
      ]
     },
     "execution_count": 33,
     "metadata": {},
     "output_type": "execute_result"
    }
   ],
   "source": [
    "chain = RetrievalQA.from_chain_type(\n",
    "    llm=llm, \n",
    "    retriever=db.as_retriever(),\n",
    "    verbose=True\n",
    ")\n",
    "\n",
    "chain.run(\n",
    "    'What is machine learning?',\n",
    "    callbacks=[handler]\n",
    ")"
   ]
  },
  {
   "cell_type": "code",
   "execution_count": 32,
   "id": "22421015-942e-4f96-9810-801530240fdd",
   "metadata": {},
   "outputs": [],
   "source": []
  },
  {
   "cell_type": "code",
   "execution_count": null,
   "id": "07cc0126-7226-4004-8ade-32ae9143aa5e",
   "metadata": {},
   "outputs": [],
   "source": []
  }
 ],
 "metadata": {
  "kernelspec": {
   "display_name": "Python 3 (ipykernel)",
   "language": "python",
   "name": "python3"
  },
  "language_info": {
   "codemirror_mode": {
    "name": "ipython",
    "version": 3
   },
   "file_extension": ".py",
   "mimetype": "text/x-python",
   "name": "python",
   "nbconvert_exporter": "python",
   "pygments_lexer": "ipython3",
   "version": "3.11.7"
  }
 },
 "nbformat": 4,
 "nbformat_minor": 5
}
