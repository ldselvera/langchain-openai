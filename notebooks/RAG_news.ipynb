{
 "cells": [
  {
   "cell_type": "code",
   "execution_count": null,
   "id": "70ca8ad6-0817-461d-9931-8d54fbf78fa3",
   "metadata": {},
   "outputs": [],
   "source": [
    "# %pip install newsapi-python"
   ]
  },
  {
   "cell_type": "code",
   "execution_count": null,
   "id": "30bc7c01-fae4-4e23-8db0-5d461a022763",
   "metadata": {},
   "outputs": [],
   "source": [
    "from newsapi import NewsApiClient\n",
    "from langchain.docstore.document import Document\n",
    "from langchain.chains import create_qa_with_sources_chain\n",
    "from langchain.chains.combine_documents.stuff import StuffDocumentsChain\n",
    "from langchain.prompts import PromptTemplate"
   ]
  },
  {
   "cell_type": "markdown",
   "id": "e9905bd1-ffeb-4d2f-a8ad-fe89daf9e22b",
   "metadata": {},
   "source": [
    "## NewsAPI"
   ]
  },
  {
   "cell_type": "code",
   "execution_count": 8,
   "id": "6cad9a13-3901-4fea-adc8-b97baf6d14e7",
   "metadata": {},
   "outputs": [],
   "source": [
    "today = date.today()\n",
    "last_week = today - timedelta(days=7)\n",
    "\n",
    "latest_news = newsapi.get_everything(\n",
    "    q='artificial intelligence',\n",
    "    from_param=last_week.strftime(\"%Y-%m-%d\"),\n",
    "    to=today.strftime(\"%Y-%m-%d\"),\n",
    "    sort_by='relevancy',\n",
    "    language='en'\n",
    ")"
   ]
  },
  {
   "cell_type": "code",
   "execution_count": 9,
   "id": "dc118395-5346-45d1-a065-95ae2580f344",
   "metadata": {},
   "outputs": [
    {
     "data": {
      "text/plain": [
       "[{'source': {'id': None, 'name': 'CNET'},\n",
       "  'author': 'Gael Cooper',\n",
       "  'title': \"A New 'Trustmark' Could Show Music Uses AI Responsibly\",\n",
       "  'description': 'AI:OK, co-founded by musician Martin Clancy, seeks to set standards involving artificial intelligence and the music industry.',\n",
       "  'url': 'https://www.cnet.com/tech/services-and-software/a-new-trustmark-could-show-music-uses-ai-responsibly/',\n",
       "  'urlToImage': 'https://www.cnet.com/a/img/resize/f3f37277dcf1af0ded788ada2953db18a1098838/hub/2024/06/26/c5c0ed80-f053-4a74-a14c-a556f6386567/neon-woman-ai.jpg?auto=webp&fit=crop&height=675&width=1200',\n",
       "  'publishedAt': '2024-06-27T13:00:09Z',\n",
       "  'content': 'Use of artificial intelligence in the music industry has been a hot topic, and there are no universal standards regarding the melding of the technology and the art form. So on Thursday, two music-ind… [+1995 chars]'},\n",
       " {'source': {'id': None, 'name': 'NPR'},\n",
       "  'author': 'The Associated Press',\n",
       "  'title': 'Amazon becomes the 5th U.S. company to reach $2 trillion in stock market value',\n",
       "  'description': \"Amazon's stock has gained 52% in the past 12 months, partly driven by enthusiasm for the company's investments in artificial intelligence.\",\n",
       "  'url': 'https://www.npr.org/2024/06/27/g-s1-6525/amazon-2-trillion-stock-market-value',\n",
       "  'urlToImage': 'https://npr.brightspotcdn.com/dims3/default/strip/false/crop/6000x3375+0+313/resize/1400/quality/100/format/jpeg/?url=http%3A%2F%2Fnpr-brightspot.s3.amazonaws.com%2F5e%2F55%2F2ce97cea46f88faad208a4c5ab6c%2Fap24178689680618.jpg',\n",
       "  'publishedAt': '2024-06-27T05:22:29Z',\n",
       "  'content': \"NEW YORK (AP) Amazon joined the exclusive $2 trillion club Wednesday after Wall Street investors pushed the value of the e-commerce giant's stock past that threshold.\\r\\nShares in Amazon.com Inc. finis… [+2195 chars]\"},\n",
       " {'source': {'id': 'business-insider', 'name': 'Business Insider'},\n",
       "  'author': 'Lloyd Lee',\n",
       "  'title': \"AI companies need to get society's input as they build out the technology, OpenAI CEO Sam Altman and Airbnb CEO Brian Chesky say\",\n",
       "  'description': 'OpenAI CEO Sam Altman and Airbnb CEO Brian Chesky said tech companies should be transparent with people as they develop artificial intelligence.',\n",
       "  'url': 'https://www.businessinsider.com/ai-progress-feedback-sam-altman-openai-brian-chesky-airbnb-2024-6',\n",
       "  'urlToImage': 'https://i.insider.com/667caa8540cf2af6e4f61365?width=1200&format=jpeg',\n",
       "  'publishedAt': '2024-06-27T01:40:36Z',\n",
       "  'content': 'OpenAI CEO Sam Altman, right, and Airbnb CEO Brian Chesky, left, emphasized the important of being transparent with the world as companies continue to build out artificial intelligence.Jason Redmond … [+3651 chars]'},\n",
       " {'source': {'id': None, 'name': 'Scientific American'},\n",
       "  'author': 'Lauren Leffer',\n",
       "  'title': 'What Does Artificial General Intelligence Actually Mean?',\n",
       "  'description': 'Claims of artificial general intelligence are increasingly common. But can anyone agree on what it is?',\n",
       "  'url': 'https://www.scientificamerican.com/article/what-does-artificial-general-intelligence-actually-mean/',\n",
       "  'urlToImage': 'https://static.scientificamerican.com/dam/m/59842ebd3d857840/original/GettyImages-1464771790_WEB.jpg?w=1200',\n",
       "  'publishedAt': '2024-06-25T10:45:00Z',\n",
       "  'content': 'To hear companies such as ChatGPT’s OpenAI tell it, artificial general intelligence, or AGI, is the ultimate goal of machine learning and AI research. But what is the measure of a generally intellige… [+10539 chars]'},\n",
       " {'source': {'id': None, 'name': 'ReadWrite'},\n",
       "  'author': 'Ali Rees',\n",
       "  'title': 'We may see an Apple and Meta partnership over AI',\n",
       "  'description': 'Apple and Meta are in talks over a possible partnership to enhance Apple’s artificial intelligence (AI) capabilities. Apple Intelligence, the… Continue reading We may see an Apple and Meta partnership over AI\\nThe post We may see an Apple and Meta partnership …',\n",
       "  'url': 'https://readwrite.com/we-could-see-an-apple-and-meta-partnership-over-ai/',\n",
       "  'urlToImage': 'https://readwrite.com/wp-content/uploads/2024/06/a-sleek-iphone-displaying-a-creative-digital-artwo-ewRQ3c6WQ9GEJJgOSwqGZA-_d_OvhCXRwKRsRzOrEU2uw.jpeg',\n",
       "  'publishedAt': '2024-06-24T15:24:11Z',\n",
       "  'content': 'Apple and Meta are in talks over a possible partnership to enhance Apple’s artificial intelligence (AI) capabilities.\\r\\nApple Intelligence, the iPhone maker’s first step into the world of AI, was anno… [+2016 chars]'}]"
      ]
     },
     "execution_count": 9,
     "metadata": {},
     "output_type": "execute_result"
    }
   ],
   "source": [
    "latest_news['articles'][:5]"
   ]
  },
  {
   "cell_type": "code",
   "execution_count": 10,
   "id": "f8712588-48fb-4f60-9907-ae170bbdd6b4",
   "metadata": {},
   "outputs": [
    {
     "name": "stdout",
     "output_type": "stream",
     "text": [
      "A New 'Trustmark' Could Show Music Uses AI Responsibly\n",
      "\n",
      "AI:OK, co-founded by musician Martin Clancy, seeks to set standards involving artificial intelligence and the music industry.\n",
      "{'source': 'https://www.cnet.com/tech/services-and-software/a-new-trustmark-could-show-music-uses-ai-responsibly/'}\n"
     ]
    }
   ],
   "source": [
    "\n",
    "docs = [\n",
    "    Document(\n",
    "    page_content=article['title'] + '\\n\\n' + article['description'], \n",
    "    metadata={\n",
    "        'source': article['url'],\n",
    "    }\n",
    "    ) for article in latest_news['articles']\n",
    "]\n",
    "\n",
    "print(docs[0].page_content)\n",
    "print(docs[0].metadata)"
   ]
  },
  {
   "cell_type": "code",
   "execution_count": 13,
   "id": "3d5532cd-8960-4230-be28-d81f6e212297",
   "metadata": {},
   "outputs": [
    {
     "name": "stderr",
     "output_type": "stream",
     "text": [
      "C:\\Users\\Owner\\anaconda3\\Lib\\site-packages\\langchain_core\\_api\\deprecation.py:119: LangChainDeprecationWarning: The class `OpenAIEmbeddings` was deprecated in LangChain 0.0.9 and will be removed in 0.3.0. An updated version of the class exists in the langchain-openai package and should be used instead. To use it run `pip install -U langchain-openai` and import as `from langchain_openai import OpenAIEmbeddings`.\n",
      "  warn_deprecated(\n",
      "100%|████████████████████████████████████████████████████████████████████████████████████| 1/1 [00:00<00:00,  1.30it/s]\n",
      "C:\\Users\\Owner\\anaconda3\\Lib\\site-packages\\langchain_core\\_api\\deprecation.py:119: LangChainDeprecationWarning: The class `RetrievalQA` was deprecated in LangChain 0.1.17 and will be removed in 0.3.0. Use create_retrieval_chain instead.\n",
      "  warn_deprecated(\n"
     ]
    }
   ],
   "source": [
    "llm = ChatOpenAI()\n",
    "embeddings = OpenAIEmbeddings(show_progress_bar=True)\n",
    "\n",
    "qa_chain = create_qa_with_sources_chain(llm)\n",
    "\n",
    "doc_prompt = PromptTemplate(\n",
    "    template=\"Content: {page_content}\\nSource: {source}\",\n",
    "    input_variables=[\"page_content\", \"source\"],\n",
    ")\n",
    "\n",
    "final_qa_chain = StuffDocumentsChain(\n",
    "    llm_chain=qa_chain,\n",
    "    document_variable_name=\"context\",\n",
    "    document_prompt=doc_prompt,\n",
    ")\n",
    "\n",
    "index = FAISS.from_documents(docs, embedding=embeddings)\n",
    "\n",
    "\n",
    "chain = RetrievalQA(\n",
    "    retriever=index.as_retriever(), \n",
    "    combine_documents_chain=final_qa_chain\n",
    ")"
   ]
  },
  {
   "cell_type": "code",
   "execution_count": 14,
   "id": "d2701d6a-ad53-4566-a715-216b23b30182",
   "metadata": {},
   "outputs": [
    {
     "name": "stderr",
     "output_type": "stream",
     "text": [
      "C:\\Users\\Owner\\anaconda3\\Lib\\site-packages\\langchain_core\\_api\\deprecation.py:119: LangChainDeprecationWarning: The method `Chain.run` was deprecated in langchain 0.1.0 and will be removed in 0.3.0. Use invoke instead.\n",
      "  warn_deprecated(\n",
      "100%|████████████████████████████████████████████████████████████████████████████████████| 1/1 [00:00<00:00,  8.13it/s]\n"
     ]
    },
    {
     "name": "stdout",
     "output_type": "stream",
     "text": [
      "{\n",
      "    \"answer\": \"The most important news about artificial intelligence from last week was the Caribbean nation capitalizing on the AI boom. This news highlights the significant advancements and opportunities AI presents for the future.\",\n",
      "    \"sources\": [\n",
      "        \"https://www.foxnews.com/tech/fox-news-ai-newsletter-caribbean-nation-capitalizes-ai-boom\"\n",
      "    ]\n",
      "}\n"
     ]
    }
   ],
   "source": [
    "question = \"\"\"\n",
    "What is the most important news about artificial intelligence from last week?\n",
    "\"\"\"\n",
    "\n",
    "answer = chain.run(question)\n",
    "\n",
    "print(answer)"
   ]
  }
 ],
 "metadata": {
  "kernelspec": {
   "display_name": "Python 3 (ipykernel)",
   "language": "python",
   "name": "python3"
  },
  "language_info": {
   "codemirror_mode": {
    "name": "ipython",
    "version": 3
   },
   "file_extension": ".py",
   "mimetype": "text/x-python",
   "name": "python",
   "nbconvert_exporter": "python",
   "pygments_lexer": "ipython3",
   "version": "3.11.7"
  }
 },
 "nbformat": 4,
 "nbformat_minor": 5
}
