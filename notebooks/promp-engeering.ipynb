{
 "cells": [
  {
   "cell_type": "code",
   "execution_count": 25,
   "id": "d652f35a-ec2c-4af2-964b-e1690c9f8641",
   "metadata": {},
   "outputs": [],
   "source": [
    "import pandas as pd\n",
    "import random \n",
    "\n",
    "from langchain.chat_models import ChatOpenAI\n",
    "from langchain.chains import ConversationChain\n",
    "\n",
    "from langchain.prompts import (\n",
    "    FewShotChatMessagePromptTemplate,\n",
    "    ChatPromptTemplate,\n",
    "    PromptTemplate,\n",
    "    FewShotPromptTemplate,\n",
    ")\n",
    "\n",
    "from langchain.chains import LLMChain"
   ]
  },
  {
   "cell_type": "code",
   "execution_count": 5,
   "id": "5929f84f-e203-4ded-943b-e45ba1767c91",
   "metadata": {},
   "outputs": [],
   "source": [
    "import os\n",
    "os.environ['OPENAI_API_KEY'] = ''"
   ]
  },
  {
   "cell_type": "code",
   "execution_count": 6,
   "id": "952314bf-ce0b-4026-8fcb-6f7252e2fa78",
   "metadata": {},
   "outputs": [],
   "source": [
    "chat_model=ChatOpenAI()"
   ]
  },
  {
   "cell_type": "code",
   "execution_count": 8,
   "id": "62d3b8c0-83b5-4bdb-bba7-396b9de7973c",
   "metadata": {},
   "outputs": [
    {
     "name": "stdout",
     "output_type": "stream",
     "text": [
      "The following is a friendly conversation between a human and an AI. The AI is talkative and provides lots of specific details from its context. If the AI does not know the answer to a question, it truthfully says it does not know.\n",
      "\n",
      "Current conversation:\n",
      "{history}\n",
      "Human: {input}\n",
      "AI:\n"
     ]
    }
   ],
   "source": [
    "conversation_chain = ConversationChain(\n",
    "    llm=chat_model\n",
    ")\n",
    "\n",
    "print(conversation_chain.prompt.template)"
   ]
  },
  {
   "cell_type": "markdown",
   "id": "cfd66f10-d4cb-4de4-914c-21e608615bfa",
   "metadata": {},
   "source": [
    "# Few-shot learning"
   ]
  },
  {
   "cell_type": "code",
   "execution_count": 13,
   "id": "b3e62d48-a63a-4116-83bd-5e91697c6e82",
   "metadata": {},
   "outputs": [
    {
     "name": "stdout",
     "output_type": "stream",
     "text": [
      "Human: 2+2\n",
      "AI: 4\n",
      "Human: 2+3\n",
      "AI: 5\n",
      "Human: 5+6\n",
      "AI: 11\n"
     ]
    }
   ],
   "source": [
    "\n",
    "examples = [\n",
    "    {\"input\": \"2+2\", \"output\": \"4\"},\n",
    "    {\"input\": \"2+3\", \"output\": \"5\"},\n",
    "    {\"input\": \"5+6\", \"output\": \"11\"},\n",
    "]\n",
    "\n",
    "example_prompt = ChatPromptTemplate.from_messages(\n",
    "    [\n",
    "        (\"human\", \"{input}\"),\n",
    "        (\"ai\", \"{output}\"),\n",
    "    ]\n",
    ")\n",
    "\n",
    "few_shot_prompt = FewShotChatMessagePromptTemplate(\n",
    "    example_prompt=example_prompt,\n",
    "    examples=examples,\n",
    ")\n",
    "\n",
    "print(few_shot_prompt.format())"
   ]
  },
  {
   "cell_type": "code",
   "execution_count": 15,
   "id": "24b605e3-54b9-47e5-81c6-5e4c01eb86a4",
   "metadata": {},
   "outputs": [
    {
     "name": "stdout",
     "output_type": "stream",
     "text": [
      "System: You are a wornderous wizard of math.\n",
      "Human: 2+2\n",
      "AI: 4\n",
      "Human: 2+3\n",
      "AI: 5\n",
      "Human: 5+6\n",
      "AI: 11\n",
      "Human: What is 3+3?\n"
     ]
    }
   ],
   "source": [
    "final_prompt = ChatPromptTemplate.from_messages(\n",
    "    [\n",
    "        (\"system\", \"You are a wornderous wizard of math.\"),\n",
    "        few_shot_prompt,\n",
    "        (\"human\", \"{input}\"),\n",
    "    ]\n",
    ")\n",
    "\n",
    "print(final_prompt.format(input='What is 3+3?'))"
   ]
  },
  {
   "cell_type": "code",
   "execution_count": 17,
   "id": "51b2b36e-66a8-4bc9-8b1f-3f84a443dbab",
   "metadata": {},
   "outputs": [
    {
     "name": "stdout",
     "output_type": "stream",
     "text": [
      "\n",
      "\n",
      "\u001b[1m> Entering new LLMChain chain...\u001b[0m\n",
      "Prompt after formatting:\n",
      "\u001b[32;1m\u001b[1;3mSystem: You are a wornderous wizard of math.\n",
      "Human: 2+2\n",
      "AI: 4\n",
      "Human: 2+3\n",
      "AI: 5\n",
      "Human: 5+6\n",
      "AI: 11\n",
      "Human: What is 3+3?\u001b[0m\n",
      "\n",
      "\u001b[1m> Finished chain.\u001b[0m\n"
     ]
    },
    {
     "data": {
      "text/plain": [
       "'3+3 is 6.'"
      ]
     },
     "execution_count": 17,
     "metadata": {},
     "output_type": "execute_result"
    }
   ],
   "source": [
    "chain = LLMChain(\n",
    "    llm=chat_model,\n",
    "    prompt=final_prompt,\n",
    "    verbose=True\n",
    ")\n",
    "\n",
    "chain.run(\"What is 3+3?\")"
   ]
  },
  {
   "cell_type": "markdown",
   "id": "e07c9816-3165-41aa-b1c4-f93b42938172",
   "metadata": {},
   "source": [
    "## Memetic Proxy"
   ]
  },
  {
   "cell_type": "code",
   "execution_count": 23,
   "id": "26446335-3b4f-42f4-a8b7-b22fac7c3d40",
   "metadata": {},
   "outputs": [
    {
     "name": "stdout",
     "output_type": "stream",
     "text": [
      "\n",
      "\n",
      "\u001b[1m> Entering new LLMChain chain...\u001b[0m\n",
      "Prompt after formatting:\n",
      "\u001b[32;1m\u001b[1;3m\n",
      "System: Imagine you are a professor teaching at the PhD level.\n",
      "Provide a helpful answer to the following question\n",
      "\n",
      "Human: What is quantum mechanics\n",
      "\n",
      "AI:\u001b[0m\n",
      "\n",
      "\u001b[1m> Finished chain.\u001b[0m\n"
     ]
    },
    {
     "data": {
      "text/plain": [
       "'Quantum mechanics is a fundamental theory in physics that describes the behavior of matter and energy on very small scales, such as atoms and subatomic particles. It involves principles such as superposition, entanglement, and wave-particle duality, which can seem counterintuitive compared to classical physics. Quantum mechanics has led to groundbreaking discoveries and technological advancements, such as the development of quantum computing and cryptography.'"
      ]
     },
     "execution_count": 23,
     "metadata": {},
     "output_type": "execute_result"
    }
   ],
   "source": [
    "template = \"\"\"\n",
    "System: {reference}\n",
    "Provide a helpful answer to the following question\n",
    "\n",
    "Human: {question}\n",
    "\n",
    "AI:\"\"\"\n",
    "\n",
    "prompt = PromptTemplate.from_template(template)\n",
    "\n",
    "chain=LLMChain(\n",
    "    llm=chat_model,\n",
    "    prompt=prompt,\n",
    "    verbose=True\n",
    ")\n",
    "\n",
    "high_level = \"Imagine you are a professor teaching at the PhD level.\"\n",
    "lower_level = \"Imagine you are a kindergarten teacher.\"\n",
    "\n",
    "question = \"What is quantum mechanics\"\n",
    "\n",
    "chain.run(\n",
    "    {\n",
    "        'question':question,\n",
    "        'reference':high_level\n",
    "    }\n",
    ")"
   ]
  },
  {
   "cell_type": "code",
   "execution_count": 24,
   "id": "5aedec8f-0ef0-4a2e-bbff-4e4226b36b05",
   "metadata": {},
   "outputs": [
    {
     "name": "stdout",
     "output_type": "stream",
     "text": [
      "\n",
      "\n",
      "\u001b[1m> Entering new LLMChain chain...\u001b[0m\n",
      "Prompt after formatting:\n",
      "\u001b[32;1m\u001b[1;3m\n",
      "System: Imagine you are a kindergarten teacher.\n",
      "Provide a helpful answer to the following question\n",
      "\n",
      "Human: What is quantum mechanics\n",
      "\n",
      "AI:\u001b[0m\n",
      "\n",
      "\u001b[1m> Finished chain.\u001b[0m\n"
     ]
    },
    {
     "data": {
      "text/plain": [
       "'Quantum mechanics is a branch of physics that studies the behavior of particles at a very small scale, such as atoms and subatomic particles. It describes how these particles interact with each other and with energy in ways that are very different from classical physics. Quantum mechanics has led to many important technological advancements, such as the development of computers and lasers.'"
      ]
     },
     "execution_count": 24,
     "metadata": {},
     "output_type": "execute_result"
    }
   ],
   "source": [
    "chain.run(\n",
    "    {\n",
    "        'question':question,\n",
    "        'reference':lower_level\n",
    "    }\n",
    ")"
   ]
  },
  {
   "cell_type": "markdown",
   "id": "2c633e7d-94b1-432d-b7c0-256e960dfd2c",
   "metadata": {},
   "source": [
    "## Chain of Thoughts"
   ]
  },
  {
   "cell_type": "code",
   "execution_count": 27,
   "id": "8c67d3f3-a30b-4dfd-8918-6d2651fc45e4",
   "metadata": {},
   "outputs": [
    {
     "name": "stderr",
     "output_type": "stream",
     "text": [
      "C:\\Users\\Owner\\AppData\\Local\\Temp\\ipykernel_16260\\1492856589.py:4: SettingWithCopyWarning: \n",
      "A value is trying to be set on a copy of a slice from a DataFrame.\n",
      "Try using .loc[row_indexer,col_indexer] = value instead\n",
      "\n",
      "See the caveats in the documentation: https://pandas.pydata.org/pandas-docs/stable/user_guide/indexing.html#returning-a-view-versus-a-copy\n",
      "  data_sub['Question'] = data_sub['source'].apply(lambda row: '\\n\\n'.join(row.split('\\n\\n')[1:]))\n"
     ]
    }
   ],
   "source": [
    "data = pd.read_json('data/CoT_collection.json')\n",
    "datat = data.T.copy()\n",
    "data_sub = datat.loc[datat['task'] == 'ai2_arithmetic_questions']\n",
    "data_sub['Question'] = data_sub['source'].apply(lambda row: '\\n\\n'.join(row.split('\\n\\n')[1:]))\n",
    "data_final = data_sub.rename({'target': 'Response', 'rationale': 'Rationale'}, axis=1)[['Question', 'Rationale', 'Response']]\n",
    "data_final.to_csv('data/CoT_collection.csv', index=False)"
   ]
  },
  {
   "cell_type": "code",
   "execution_count": 30,
   "id": "82c8ebbf-2f6b-47d6-954b-a1c73278f41a",
   "metadata": {},
   "outputs": [
    {
     "data": {
      "text/html": [
       "<div>\n",
       "<style scoped>\n",
       "    .dataframe tbody tr th:only-of-type {\n",
       "        vertical-align: middle;\n",
       "    }\n",
       "\n",
       "    .dataframe tbody tr th {\n",
       "        vertical-align: top;\n",
       "    }\n",
       "\n",
       "    .dataframe thead th {\n",
       "        text-align: right;\n",
       "    }\n",
       "</style>\n",
       "<table border=\"1\" class=\"dataframe\">\n",
       "  <thead>\n",
       "    <tr style=\"text-align: right;\">\n",
       "      <th></th>\n",
       "      <th>Question</th>\n",
       "      <th>Rationale</th>\n",
       "      <th>Response</th>\n",
       "    </tr>\n",
       "  </thead>\n",
       "  <tbody>\n",
       "    <tr>\n",
       "      <th>0</th>\n",
       "      <td>Blake filled a bucket with 0.8 gallon of water...</td>\n",
       "      <td>Since Blake filled the bucket with 0.8 gallon ...</td>\n",
       "      <td>0.6</td>\n",
       "    </tr>\n",
       "    <tr>\n",
       "      <th>1</th>\n",
       "      <td>There is 0.2 cup of oil in Scarlett's measurin...</td>\n",
       "      <td>0.2 + 0.3 = 0.5</td>\n",
       "      <td>0.5</td>\n",
       "    </tr>\n",
       "    <tr>\n",
       "      <th>2</th>\n",
       "      <td>Craig walked 0.2 mile from school to David's h...</td>\n",
       "      <td>Craig walked 0.2 mile from school to David's h...</td>\n",
       "      <td>0.9</td>\n",
       "    </tr>\n",
       "    <tr>\n",
       "      <th>3</th>\n",
       "      <td>Hannah's Vegetarian Restaurant bought 0.3 poun...</td>\n",
       "      <td>Hannah's Vegetarian Restaurant bought 0.3 poun...</td>\n",
       "      <td>0.9</td>\n",
       "    </tr>\n",
       "    <tr>\n",
       "      <th>4</th>\n",
       "      <td>Alyssa bought some toys. She bought a football...</td>\n",
       "      <td>Alyssa spent $5.71 on football and $6.59 on ma...</td>\n",
       "      <td>12.3</td>\n",
       "    </tr>\n",
       "    <tr>\n",
       "      <th>...</th>\n",
       "      <td>...</td>\n",
       "      <td>...</td>\n",
       "      <td>...</td>\n",
       "    </tr>\n",
       "    <tr>\n",
       "      <th>575</th>\n",
       "      <td>Ella owns 2 dogs. Each day, 1 dog eats 0.175 s...</td>\n",
       "      <td>Ella owns 2 dogs. Each day, 1 dog eats 0.175 s...</td>\n",
       "      <td>0.3</td>\n",
       "    </tr>\n",
       "    <tr>\n",
       "      <th>576</th>\n",
       "      <td>Mike found 6 seashells and 4 starfish, but 4 o...</td>\n",
       "      <td>The problem is: 6 + 4 - 4 / 2.0 = 10.0 - 2.0 =...</td>\n",
       "      <td>2.0</td>\n",
       "    </tr>\n",
       "    <tr>\n",
       "      <th>577</th>\n",
       "      <td>Mary loves eating fruits. Mary paid $11.08 for...</td>\n",
       "      <td>Mary loves eating fruits. Mary paid $11.08 for...</td>\n",
       "      <td>34.7</td>\n",
       "    </tr>\n",
       "    <tr>\n",
       "      <th>578</th>\n",
       "      <td>Joan has 40 blue balloons Melanie has 41 blue ...</td>\n",
       "      <td>Joan has 40 blue balloons Melanie has 41 blue ...</td>\n",
       "      <td>81.0</td>\n",
       "    </tr>\n",
       "    <tr>\n",
       "      <th>579</th>\n",
       "      <td>Professor Ellison weighed 2 pieces of metal fo...</td>\n",
       "      <td>Professor Ellison weighed 2 pieces of metal fo...</td>\n",
       "      <td>10.3</td>\n",
       "    </tr>\n",
       "  </tbody>\n",
       "</table>\n",
       "<p>580 rows × 3 columns</p>\n",
       "</div>"
      ],
      "text/plain": [
       "                                              Question  \\\n",
       "0    Blake filled a bucket with 0.8 gallon of water...   \n",
       "1    There is 0.2 cup of oil in Scarlett's measurin...   \n",
       "2    Craig walked 0.2 mile from school to David's h...   \n",
       "3    Hannah's Vegetarian Restaurant bought 0.3 poun...   \n",
       "4    Alyssa bought some toys. She bought a football...   \n",
       "..                                                 ...   \n",
       "575  Ella owns 2 dogs. Each day, 1 dog eats 0.175 s...   \n",
       "576  Mike found 6 seashells and 4 starfish, but 4 o...   \n",
       "577  Mary loves eating fruits. Mary paid $11.08 for...   \n",
       "578  Joan has 40 blue balloons Melanie has 41 blue ...   \n",
       "579  Professor Ellison weighed 2 pieces of metal fo...   \n",
       "\n",
       "                                             Rationale  Response  \n",
       "0    Since Blake filled the bucket with 0.8 gallon ...       0.6  \n",
       "1                                      0.2 + 0.3 = 0.5       0.5  \n",
       "2    Craig walked 0.2 mile from school to David's h...       0.9  \n",
       "3    Hannah's Vegetarian Restaurant bought 0.3 poun...       0.9  \n",
       "4    Alyssa spent $5.71 on football and $6.59 on ma...      12.3  \n",
       "..                                                 ...       ...  \n",
       "575  Ella owns 2 dogs. Each day, 1 dog eats 0.175 s...       0.3  \n",
       "576  The problem is: 6 + 4 - 4 / 2.0 = 10.0 - 2.0 =...       2.0  \n",
       "577  Mary loves eating fruits. Mary paid $11.08 for...      34.7  \n",
       "578  Joan has 40 blue balloons Melanie has 41 blue ...      81.0  \n",
       "579  Professor Ellison weighed 2 pieces of metal fo...      10.3  \n",
       "\n",
       "[580 rows x 3 columns]"
      ]
     },
     "execution_count": 30,
     "metadata": {},
     "output_type": "execute_result"
    }
   ],
   "source": [
    "file_path = 'data/CoT_collection.csv'\n",
    "\n",
    "cot_df = pd.read_csv(file_path)\n",
    "\n",
    "cot_df"
   ]
  },
  {
   "cell_type": "code",
   "execution_count": 31,
   "id": "acfc8e6f-a698-4392-b097-9c06f8f7dfed",
   "metadata": {},
   "outputs": [
    {
     "data": {
      "text/plain": [
       "{'Question': 'Blake filled a bucket with 0.8 gallon of water. Later, he poured out 0.2 gallon of the water. How much water is in the bucket?',\n",
       " 'Rationale': 'Since Blake filled the bucket with 0.8 gallon of water, and poured out 0.2 gallon of it, the current amount of water left in the bucket is 0.8 - 0.2 = 0.6 gallon',\n",
       " 'Response': 0.6}"
      ]
     },
     "execution_count": 31,
     "metadata": {},
     "output_type": "execute_result"
    }
   ],
   "source": [
    "list(cot_df.T.to_dict().values())[0]"
   ]
  },
  {
   "cell_type": "code",
   "execution_count": 32,
   "id": "4e6f537f-beb9-4873-b9b1-9050c805c952",
   "metadata": {},
   "outputs": [
    {
     "data": {
      "text/plain": [
       "[{'Question': \"Joan joined her school's band. She bought a trumpet for $149.18, amusic tool for $9.98, and a song book which was $4.14. Joan found$8.65 in her pocket. How much did Joan spend at the music store?\",\n",
       "  'Rationale': \"Joan spent $149.18 on a trumpet, $9.98 on a music tool, and $4.14 on a song book. Finding extra money in her pocket doesn't matter with Joan's purchase. (Total cost of Joan's purchase) = 149.18 + 9.98 + 4.14 = 163.3\",\n",
       "  'Response': 163.3},\n",
       " {'Question': 'Ella owns 2 dogs. Each day, 1 dog eats 0.175 scoop of dog food andthe other dog eats 0.125 scoop. Together, how much dog food dothe 2 dogs eat each day?',\n",
       "  'Rationale': 'Ella owns 2 dogs. Each day, 1 dog eats 0.175 scoop of dog food and the other dog eats 0.125 scoop. So, together, the 2 dogs eat (2 x 0.175) + (2 x 0.125) scoops of dog food each day = (0.35) + (0.25) = 0.3 scoops',\n",
       "  'Response': 0.3},\n",
       " {'Question': \"Keith spent $6.5 on a rabbit toy, $5.79 on pet food, and a cagecost him $12.51. He found a dollar bill on the ground. What was the total cost of Keith's purchases?\",\n",
       "  'Rationale': 'Keith spent $6.5 on a rabbit toy, $5.79 on pet food, and a cagecost him $12.51. Finding a dollar doesn\\'t matter with Keith\\'s purchase. (Total cost of Keith\\'s purchase) = 6.5 + 5.79 + 12.51 = 24.80.\"\"',\n",
       "  'Response': 24.8},\n",
       " {'Question': 'A carpenter bought a piece of wood that was 0.43 meters long. Thenshe sawed 0.33 meters off the end. How long is the piece of woodnow?',\n",
       "  'Rationale': 'The carpenter bought a piece of wood that was 0.43 meters long. Then she sawed 0.33 meters off the end, so the length of piece of wood now is = 0.43 - 0.33 = 0.1',\n",
       "  'Response': 0.1},\n",
       " {'Question': 'Gordon bought 3.4 pounds of fruit for a class party. The class ate 2.2 pounds of the fruit. How much fruit is left now?',\n",
       "  'Rationale': 'Gordon bought 3.4 pounds of fruit for a class party. The class ate 2.2 pounds of the fruit, then Gordon has 3.4 - 2.2 = 1.2 pounds left now.\")\\n(defconst mnli-examples\\n  \"',\n",
       "  'Response': 1.2},\n",
       " {'Question': 'This afternoon Craig left school, rode the bus 3.8 miles, and then walked 0.2 mile to get home. How much farther did Craig ride than walk?',\n",
       "  'Rationale': 'Craig rode the bus 3.8 miles and then walked 0.2 mile to get home. So he rode a total of 3.8 miles and walked a total of 0.2 mile, so he rode 3.6 more miles than he walked (3.8 - 0.2 = 3.6).',\n",
       "  'Response': 3.6},\n",
       " {'Question': 'Mary loves eating fruits. Mary paid $11.08 for berries, $14.33 forapples, and $9.31 for peaches. In total, how much money did shespend?',\n",
       "  'Rationale': 'The total amount Mary spent on fruits is the sum of the prices for each type of fruit:\\\\nTotal cost = 11.08 + 14.33 + 9.31 = 34.72',\n",
       "  'Response': 34.7},\n",
       " {'Question': 'While taking inventory at her pastry shop, Kelly realizes that she had 0.4 box of baking powder yesterday, but the supply is now down to 0.3 box. How much more baking powder did Kelly have yesterday?',\n",
       "  'Rationale': 'Yesterday, Kelly had 0.4 box of baking powder. Today, she has 0.3 box of baking powder. So, the amount of baking powder she used is: 0.4 - 0.3 = 0.1',\n",
       "  'Response': 0.1},\n",
       " {'Question': \"Each day, the polar bear at Richmond's zoo eats 0.2 bucket of troutand 0.4 bucket of salmon. How many buckets of fish does the polarbear eat daily?\",\n",
       "  'Rationale': 'The polar bear eats 0.2 bucket of trout + 0.4 bucket of salmon = (0.2 + 0.4) buckets = 0.6 buckets per day',\n",
       "  'Response': 0.6},\n",
       " {'Question': 'Kenji and his classmates placed colored blocks on a scale during ascience lab. The yellow block weighed 0.6 pounds and the greenblock weighed 0.4 pounds. How much more did the yellow blockweigh than the green block?',\n",
       "  'Rationale': 'Yellow block weighs: 0.6 pounds\\\\nGreen block weighs: 0.4 pounds\\\\nThe difference between the two weights is: 0.6 - 0.4 = 0.2',\n",
       "  'Response': 0.2}]"
      ]
     },
     "execution_count": 32,
     "metadata": {},
     "output_type": "execute_result"
    }
   ],
   "source": [
    "random.sample(list(cot_df.T.to_dict().values()), 10)"
   ]
  },
  {
   "cell_type": "code",
   "execution_count": 33,
   "id": "95936b21-626c-417d-bf5e-d19ba6797153",
   "metadata": {},
   "outputs": [],
   "source": [
    "examples = random.sample(list(cot_df.T.to_dict().values()), 10)"
   ]
  },
  {
   "cell_type": "code",
   "execution_count": 35,
   "id": "1c86fa25-5c3e-4528-b027-ca52005f04e2",
   "metadata": {},
   "outputs": [
    {
     "name": "stdout",
     "output_type": "stream",
     "text": [
      "\n",
      "You are provided with an arithmetic question.\n",
      "Your task is to compute the solution using the given arithmetic operations.\n",
      "The only arithmetic operatos needed to answer the question are '+' (addition) and '-' (substraction).\n",
      "The answer should be correct to one decimal place.\n",
      "\n",
      "\n",
      "\n",
      "Question: For his car, Mike spent $118.57 on speakers and $106.33 on newtires. Mike wanted 3 CD's for $4.58 but decided not to. In total,how much did Mike spend on car parts?\n",
      "Rationale: Mike spent $118.57 on speakers and $106.33 on new tires. If Mike wanted 3 CD's for $4.58 each he would have spent 0 since he decided not to buy them. (Total cost of car parts) = 118.57 + 106.33 + 0 = 224.90\n",
      "Response: 224.9\n",
      "\n",
      "\n",
      "\n",
      "Question: At Lindsey's Vacation Wear, 0.37 the garments are bikinis and 0.23 are trunks. What fraction of the garments are either bikinis or trunks?\n",
      "Rationale: The fraction of garments that are bikinis is 0.37 and the fraction of garments that are trunks is 0.23, so the total fraction of garments that are either bikinis or trunks is 0.37 + 0.23 = 0.60.\n",
      "Response: 0.6\n",
      "\n",
      "\n",
      "\n",
      "Question: Brennan had 0.25 grams of pepper. Then he used 0.15 grams of thepepper to make some scrambled eggs. How much pepper doesBrennan have?\n",
      "Rationale: Brennan begins with 0.25 grams of pepper and uses 0.15 grams to make some scrambled eggs, so the amount of pepper that he has left is 0.25 - 0.15 = 0.1 grams.\n",
      "Response: 0.1\n",
      "\n",
      "\n",
      "\n",
      "Question: Mike bought some toys. He bought marbles for $9.05, a football for $4.93, and spent $6.52 on a baseball. In total, how much did Mikespend on toys?\n",
      "Rationale: Mike bought marbles for $9.05, a football for $4.93, and spent $6.52 on a baseball. (Total cost of Mike's purchase) = 9.05 + 4.93 + 6.52 = 20.50\n",
      "Response: 20.5\n",
      "\n",
      "\n",
      "\n",
      "Question: Oscar's bus ride to school is 0.75 mile and Charlie's bus ride is 0.25mile. How much longer is Oscar's bus ride than Charlie's?\n",
      "Rationale: Oscar's bus ride to school is 0.75 mile and Charlie's bus ride is 0.25mile.\\nTo calculate the difference of the two, we need to subtract Charlie's bus ride from Oscar's:\\n0.75 - 0.25 = 0.5\n",
      "Response: 0.5\n",
      "\n",
      "\n",
      "\n",
      "Question: While making desserts for a bake sale, Victor used 0.625 scoop ofbrown sugar as well as 0.225 scoop of white sugar. How much morebrown sugar did Victor use?\n",
      "Rationale: Victor used 0.625 scoop of brown sugar as well as 0.225 scoop of whitesugar. The difference between brown and white sugar is:0.625 - 0.225 = 0.4\n",
      "Response: 0.4\n",
      "\n",
      "\n",
      "\n",
      "Question: Karen added 0.25 cup of walnuts to a batch of trail mix. Later, sheadded 0.25 cup of almonds. How many cups of nuts did Karen put inthe trail mix in all?\n",
      "Rationale: Karen added 0.25 cup of walnuts to a batch of trail mix and then 0.25cup of almonds. So, the total number of cups will be 0.25 +0.25 =0.5\n",
      "Response: 0.5\n",
      "\n",
      "\n",
      "\n",
      "Question: Keith spent $6.5 on a rabbit toy, $5.79 on pet food, and a cagecost him $12.51. He found a dollar bill on the ground. What was the total cost of Keith's purchases?\n",
      "Rationale: Keith spent $6.5 on a rabbit toy, $5.79 on pet food, and a cagecost him $12.51. Finding a dollar doesn't matter with Keith's purchase. (Total cost of Keith's purchase) = 6.5 + 5.79 + 12.51 = 24.80.\"\"\n",
      "Response: 24.8\n",
      "\n",
      "\n",
      "\n",
      "Question: Mary loves eating fruits. Mary paid $11.08 for berries, $14.33 forapples, and $9.31 for peaches. In total, how much money did shespend?\n",
      "Rationale: There are no additional information given in the question. The answeris simply $11.08 + $14.33 + $9.31 = $34.72\n",
      "Response: 34.7\n",
      "\n",
      "\n",
      "\n",
      "Question: Sally grew 6 carrots. Fred grew 4 carrots. How many carrots did theygrow in all?\n",
      "Rationale: Sally grew 6 carrots and Fred grew 4 carrots.We have to add Sally's carrots and Fred's carrots.So the answer is 10.0\n",
      "Response: 10.0\n",
      "\n",
      "\n",
      "Question: [EXAMPLE QUESTION]\n"
     ]
    }
   ],
   "source": [
    "template =\"\"\"\n",
    "Question: {Question}\n",
    "Rationale: {Rationale}\n",
    "Response: {Response}\n",
    "\"\"\"\n",
    "\n",
    "example_prompt = PromptTemplate(\n",
    "    input_variables=[\"Question\",\"Rationale\",\"Response\"],\n",
    "    template=template\n",
    ")\n",
    "\n",
    "system_prompt=\"\"\"\n",
    "You are provided with an arithmetic question.\n",
    "Your task is to compute the solution using the given arithmetic operations.\n",
    "The only arithmetic operatos needed to answer the question are '+' (addition) and '-' (substraction).\n",
    "The answer should be correct to one decimal place.\n",
    "\"\"\"\n",
    "\n",
    "COT_promt = FewShotPromptTemplate(\n",
    "    prefix=system_prompt,\n",
    "    example_prompt=example_prompt,\n",
    "    examples=examples,\n",
    "    suffix=\"Question: {input}\",\n",
    "    input_variables=['input']\n",
    ")\n",
    "\n",
    "print(COT_promt.format(input='[EXAMPLE QUESTION]'))"
   ]
  },
  {
   "cell_type": "code",
   "execution_count": 37,
   "id": "21d8906b-195d-47df-af47-83d22e655b4a",
   "metadata": {},
   "outputs": [
    {
     "name": "stdout",
     "output_type": "stream",
     "text": [
      "\n",
      "\n",
      "\u001b[1m> Entering new LLMChain chain...\u001b[0m\n",
      "Prompt after formatting:\n",
      "\u001b[32;1m\u001b[1;3m\n",
      "You are provided with an arithmetic question.\n",
      "Your task is to compute the solution using the given arithmetic operations.\n",
      "The only arithmetic operatos needed to answer the question are '+' (addition) and '-' (substraction).\n",
      "The answer should be correct to one decimal place.\n",
      "\n",
      "\n",
      "\n",
      "Question: For his car, Mike spent $118.57 on speakers and $106.33 on newtires. Mike wanted 3 CD's for $4.58 but decided not to. In total,how much did Mike spend on car parts?\n",
      "Rationale: Mike spent $118.57 on speakers and $106.33 on new tires. If Mike wanted 3 CD's for $4.58 each he would have spent 0 since he decided not to buy them. (Total cost of car parts) = 118.57 + 106.33 + 0 = 224.90\n",
      "Response: 224.9\n",
      "\n",
      "\n",
      "\n",
      "Question: At Lindsey's Vacation Wear, 0.37 the garments are bikinis and 0.23 are trunks. What fraction of the garments are either bikinis or trunks?\n",
      "Rationale: The fraction of garments that are bikinis is 0.37 and the fraction of garments that are trunks is 0.23, so the total fraction of garments that are either bikinis or trunks is 0.37 + 0.23 = 0.60.\n",
      "Response: 0.6\n",
      "\n",
      "\n",
      "\n",
      "Question: Brennan had 0.25 grams of pepper. Then he used 0.15 grams of thepepper to make some scrambled eggs. How much pepper doesBrennan have?\n",
      "Rationale: Brennan begins with 0.25 grams of pepper and uses 0.15 grams to make some scrambled eggs, so the amount of pepper that he has left is 0.25 - 0.15 = 0.1 grams.\n",
      "Response: 0.1\n",
      "\n",
      "\n",
      "\n",
      "Question: Mike bought some toys. He bought marbles for $9.05, a football for $4.93, and spent $6.52 on a baseball. In total, how much did Mikespend on toys?\n",
      "Rationale: Mike bought marbles for $9.05, a football for $4.93, and spent $6.52 on a baseball. (Total cost of Mike's purchase) = 9.05 + 4.93 + 6.52 = 20.50\n",
      "Response: 20.5\n",
      "\n",
      "\n",
      "\n",
      "Question: Oscar's bus ride to school is 0.75 mile and Charlie's bus ride is 0.25mile. How much longer is Oscar's bus ride than Charlie's?\n",
      "Rationale: Oscar's bus ride to school is 0.75 mile and Charlie's bus ride is 0.25mile.\\nTo calculate the difference of the two, we need to subtract Charlie's bus ride from Oscar's:\\n0.75 - 0.25 = 0.5\n",
      "Response: 0.5\n",
      "\n",
      "\n",
      "\n",
      "Question: While making desserts for a bake sale, Victor used 0.625 scoop ofbrown sugar as well as 0.225 scoop of white sugar. How much morebrown sugar did Victor use?\n",
      "Rationale: Victor used 0.625 scoop of brown sugar as well as 0.225 scoop of whitesugar. The difference between brown and white sugar is:0.625 - 0.225 = 0.4\n",
      "Response: 0.4\n",
      "\n",
      "\n",
      "\n",
      "Question: Karen added 0.25 cup of walnuts to a batch of trail mix. Later, sheadded 0.25 cup of almonds. How many cups of nuts did Karen put inthe trail mix in all?\n",
      "Rationale: Karen added 0.25 cup of walnuts to a batch of trail mix and then 0.25cup of almonds. So, the total number of cups will be 0.25 +0.25 =0.5\n",
      "Response: 0.5\n",
      "\n",
      "\n",
      "\n",
      "Question: Keith spent $6.5 on a rabbit toy, $5.79 on pet food, and a cagecost him $12.51. He found a dollar bill on the ground. What was the total cost of Keith's purchases?\n",
      "Rationale: Keith spent $6.5 on a rabbit toy, $5.79 on pet food, and a cagecost him $12.51. Finding a dollar doesn't matter with Keith's purchase. (Total cost of Keith's purchase) = 6.5 + 5.79 + 12.51 = 24.80.\"\"\n",
      "Response: 24.8\n",
      "\n",
      "\n",
      "\n",
      "Question: Mary loves eating fruits. Mary paid $11.08 for berries, $14.33 forapples, and $9.31 for peaches. In total, how much money did shespend?\n",
      "Rationale: There are no additional information given in the question. The answeris simply $11.08 + $14.33 + $9.31 = $34.72\n",
      "Response: 34.7\n",
      "\n",
      "\n",
      "\n",
      "Question: Sally grew 6 carrots. Fred grew 4 carrots. How many carrots did theygrow in all?\n",
      "Rationale: Sally grew 6 carrots and Fred grew 4 carrots.We have to add Sally's carrots and Fred's carrots.So the answer is 10.0\n",
      "Response: 10.0\n",
      "\n",
      "\n",
      "Question: \n",
      "Mandy made an apple pie. She used 0.6 of cinnamon and 0.5 tablespoon of nutmeg.\n",
      "How much more cinnamon than nutmeg did Mandy use?\n",
      "\u001b[0m\n",
      "\n",
      "\u001b[1m> Finished chain.\u001b[0m\n"
     ]
    },
    {
     "data": {
      "text/plain": [
       "'Rationale: Mandy used 0.6 tablespoon of cinnamon and 0.5 tablespoon of nutmeg. To find out how much more cinnamon than nutmeg she used, we need to subtract the amount of nutmeg from the amount of cinnamon: 0.6 - 0.5 = 0.1\\nResponse: 0.1'"
      ]
     },
     "execution_count": 37,
     "metadata": {},
     "output_type": "execute_result"
    }
   ],
   "source": [
    "chain = LLMChain(\n",
    "    llm=chat_model,\n",
    "    prompt=COT_promt,\n",
    "    verbose=True\n",
    ")\n",
    "\n",
    "question =\"\"\"\n",
    "Mandy made an apple pie. She used 0.6 of cinnamon and 0.5 tablespoon of nutmeg.\n",
    "How much more cinnamon than nutmeg did Mandy use?\n",
    "\"\"\"\n",
    "\n",
    "chain.run(question)"
   ]
  },
  {
   "cell_type": "code",
   "execution_count": null,
   "id": "96cd0510-8196-440d-9239-9077e40cd565",
   "metadata": {},
   "outputs": [],
   "source": []
  }
 ],
 "metadata": {
  "kernelspec": {
   "display_name": "Python 3 (ipykernel)",
   "language": "python",
   "name": "python3"
  },
  "language_info": {
   "codemirror_mode": {
    "name": "ipython",
    "version": 3
   },
   "file_extension": ".py",
   "mimetype": "text/x-python",
   "name": "python",
   "nbconvert_exporter": "python",
   "pygments_lexer": "ipython3",
   "version": "3.11.7"
  }
 },
 "nbformat": 4,
 "nbformat_minor": 5
}
